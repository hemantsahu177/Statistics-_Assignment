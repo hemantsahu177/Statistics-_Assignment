{
  "nbformat": 4,
  "nbformat_minor": 0,
  "metadata": {
    "colab": {
      "provenance": [],
      "authorship_tag": "ABX9TyO5lk7564huDdjx6vebHuIb",
      "include_colab_link": true
    },
    "kernelspec": {
      "name": "python3",
      "display_name": "Python 3"
    },
    "language_info": {
      "name": "python"
    }
  },
  "cells": [
    {
      "cell_type": "markdown",
      "metadata": {
        "id": "view-in-github",
        "colab_type": "text"
      },
      "source": [
        "<a href=\"https://colab.research.google.com/github/hemantsahu177/Statistics-_Assignment/blob/main/Statistics__Assignment.ipynb\" target=\"_parent\"><img src=\"https://colab.research.google.com/assets/colab-badge.svg\" alt=\"Open In Colab\"/></a>"
      ]
    },
    {
      "cell_type": "code",
      "execution_count": 1,
      "metadata": {
        "colab": {
          "base_uri": "https://localhost:8080/"
        },
        "id": "oeYFXuJipvg9",
        "outputId": "c70386f5-0541-488a-e26f-f2b6a9b06380"
      },
      "outputs": [
        {
          "output_type": "stream",
          "name": "stdout",
          "text": [
            "Mean: 109.78\n",
            "Median: 109.0\n",
            "Mode: 99\n",
            "Weighted Mean: 109.78\n",
            "Geometric Mean: 109.10174251741277\n",
            "Harmonic Mean: 108.42533456241442\n",
            "Midrange: 110.0\n",
            "Trimmed Mean (10%): 109.8\n"
          ]
        }
      ],
      "source": [
        "# 1. Generate a list of 100 integers containing values between 90 t0 130 and store it in the variable 'int_list'.\n",
        "#    After generating the list, find the following:\n",
        "\n",
        "# Code\n",
        "\n",
        "import random\n",
        "import statistics\n",
        "import math\n",
        "\n",
        "int_list = [random.randint(90, 130) for _ in range(100)]\n",
        "\n",
        "#   (i).    Write a Python function to calculate the mean of a given list of numbers.\n",
        "#           Create a function to find the median of a list of numbers.\n",
        "\n",
        "# Calculate the mean of a given list of numbers\n",
        "def calculate_mean(numbers):\n",
        "    return sum(numbers) / len(numbers)\n",
        "\n",
        "# Calculate the median of a list of numbers\n",
        "def calculate_median(numbers):\n",
        "    return statistics.median(numbers)\n",
        "\n",
        "#   (ii).   Develop a program to compute the mode of a list of integers.\n",
        "\n",
        "def calculate_mode(numbers):\n",
        "    return statistics.mode(numbers)\n",
        "\n",
        "#   (iii).  Implement a function to calculate the weighted mean of a list of values and their corresponding weights.\n",
        "\n",
        "def calculate_weighted_mean(values, weights):\n",
        "    weighted_sum = sum(value * weight for value, weight in zip(values, weights))\n",
        "    weight_sum = sum(weights)\n",
        "    return weighted_sum / weight_sum\n",
        "\n",
        "#   (iv).   Write a Python function to find the geometric mean of a list of positive numbers.\n",
        "\n",
        "def calculate_geometric_mean(numbers):\n",
        "    return math.prod(numbers) ** (1.0 / len(numbers))\n",
        "\n",
        "#   (v).    Create a program to calculate the harmonic mean of a list of values.\n",
        "\n",
        "def calculate_harmonic_mean(numbers):\n",
        "    return len(numbers) / sum(1.0 / num for num in numbers)\n",
        "\n",
        "#   (vi).   Build a function to determine the midrange of a list of numbers (average of the minimum and maximum).\n",
        "\n",
        "def calculate_midrange(numbers):\n",
        "    return (min(numbers) + max(numbers)) / 2\n",
        "\n",
        "#   (vii).  Implement a Python program to find the trimmed mean of a list, excluding a certain percentage of outliers.\n",
        "\n",
        "def calculate_trimmed_mean(numbers, percentage):\n",
        "    numbers.sort()\n",
        "    trim_amount = int(len(numbers) * (percentage / 100) / 2)\n",
        "    trimmed_numbers = numbers[trim_amount:-trim_amount]\n",
        "    return sum(trimmed_numbers) / len(trimmed_numbers)\n",
        "\n",
        "# Test the functions\n",
        "\n",
        "print(\"Mean:\", calculate_mean(int_list))\n",
        "print(\"Median:\", calculate_median(int_list))\n",
        "print(\"Mode:\", calculate_mode(int_list))\n",
        "print(\"Weighted Mean:\", calculate_weighted_mean(int_list, [1] * len(int_list)))\n",
        "print(\"Geometric Mean:\", calculate_geometric_mean(int_list))\n",
        "print(\"Harmonic Mean:\", calculate_harmonic_mean(int_list))\n",
        "print(\"Midrange:\", calculate_midrange(int_list))\n",
        "print(\"Trimmed Mean (10%):\", calculate_trimmed_mean(int_list, 10))"
      ]
    },
    {
      "cell_type": "code",
      "source": [
        "# 2. Generate a list of 500 integers containing values between 200 to 300 and store it in the variable int_list2.\n",
        "# After generating the list, find the following:\n",
        "\n",
        "import random\n",
        "import numpy as np\n",
        "import matplotlib.pyplot as plt\n",
        "from scipy import stats\n",
        "import seaborn as sns\n",
        "\n",
        "int_list2 = [random.randint(200, 300) for _ in range(500)]\n",
        "\n",
        "#   (i) Compare the given list of visualization for the given data:\n",
        "#     1. Frequency & Gaussian distribution\n",
        "#     2. Frequency smoothened KDE plot\n",
        "#     3. Gaussian distribution & smoothened KDE plot\n",
        "\n",
        "plt.figure(figsize=(12, 6))\n",
        "\n",
        "plt.subplot(1, 3, 1)\n",
        "plt.hist(int_list2, bins=20, density=True, alpha=0.6, color='g')\n",
        "plt.plot(np.linspace(200, 300, 100), stats.norm.pdf(np.linspace(200, 300, 100), np.mean(int_list2), np.std(int_list2)), 'r')\n",
        "plt.title(\"Frequency & Gaussian distribution\")\n",
        "\n",
        "plt.subplot(1, 3, 2)\n",
        "sns.kdeplot(int_list2, shade=True, alpha=0.6, color='b')\n",
        "plt.title(\"Frequency smoothened KDE plot\")\n",
        "\n",
        "plt.subplot(1, 3, 3)\n",
        "plt.hist(int_list2, bins=20, density=True, alpha=0.6, color='g')\n",
        "sns.kdeplot(int_list2, shade=True, alpha=0.6, color='b')\n",
        "plt.plot(np.linspace(200, 300, 100), stats.norm.pdf(np.linspace(200, 300, 100), np.mean(int_list2), np.std(int_list2)), 'r')\n",
        "plt.title(\"Gaussian distribution & smoothened KDE plot\")\n",
        "\n",
        "plt.tight_layout()\n",
        "plt.show()\n",
        "\n",
        "#   (ii) Write a Python function to calculate the range of a given list of numbers.\n",
        "\n",
        "def calculate_range(numbers):\n",
        "    return max(numbers) - min(numbers)\n",
        "\n",
        "print(\"Range:\", calculate_range(int_list2))\n",
        "\n",
        "#   (iii) Create a program to find the variance and standard deviation of a list of numbers.\n",
        "\n",
        "def calculate_variance(numbers):\n",
        "    mean = sum(numbers) / len(numbers)\n",
        "    variance = sum((x - mean) ** 2 for x in numbers) / len(numbers)\n",
        "    return variance\n",
        "\n",
        "def calculate_standard_deviation(numbers):\n",
        "    return calculate_variance(numbers) ** 0.5\n",
        "\n",
        "print(\"Variance:\", calculate_variance(int_list2))\n",
        "print(\"Standard Deviation:\", calculate_standard_deviation(int_list2))\n",
        "\n",
        "#   (iv) Implement a function to compute the interquartile range (IQR) of a list of values.\n",
        "\n",
        "def calculate_iqr(numbers):\n",
        "    q75, q25 = np.percentile(numbers, [75, 25])\n",
        "    return q75 - q25\n",
        "\n",
        "print(\"Interquartile Range (IQR):\", calculate_iqr(int_list2))\n",
        "\n",
        "#   (v) Build a program to calculate the coefficient of variation for a dataset.\n",
        "\n",
        "def calculate_coefficient_of_variation(numbers):\n",
        "    mean = sum(numbers) / len(numbers)\n",
        "    std_dev = calculate_standard_deviation(numbers)\n",
        "    return std_dev / mean\n",
        "\n",
        "print(\"Coefficient of Variation:\", calculate_coefficient_of_variation(int_list2))\n",
        "\n",
        "#   (vi) Write a Python function to find the mean absolute deviation (MAD) of a list of numbers.\n",
        "\n",
        "def calculate_mad(numbers):\n",
        "    mean = sum(numbers) / len(numbers)\n",
        "    return sum(abs(x - mean) for x in numbers) / len(numbers)\n",
        "\n",
        "print(\"Mean Absolute Deviation (MAD):\", calculate_mad(int_list2))\n",
        "\n",
        "#   (vii) Create a program to calculate the quartile deviation of a list of values.\n",
        "\n",
        "def calculate_quartile_deviation(numbers):\n",
        "    q75, q25 = np.percentile(numbers, [75, 25])\n",
        "    return (q75 - q25) / 2\n",
        "\n",
        "print(\"Quartile Deviation:\", calculate_quartile_deviation(int_list2))\n",
        "\n",
        "#   (viii) Implement a function to find the range-based coefficient of dispersion for a dataset.\n",
        "\n",
        "def calculate_range_based_coefficient_of_dispersion(numbers):\n",
        "    range_val = calculate_range(numbers)\n",
        "    mean_val = sum(numbers) / len(numbers)\n",
        "    return range_val / mean_val\n",
        "\n",
        "print(\"Range-Based Coefficient of Dispersion:\", calculate_range_based_coefficient_of_dispersion(int_list2))"
      ],
      "metadata": {
        "colab": {
          "base_uri": "https://localhost:8080/",
          "height": 954
        },
        "id": "t5c_5_PKqien",
        "outputId": "e27150a3-114a-445a-eec6-aefa58583a83"
      },
      "execution_count": 2,
      "outputs": [
        {
          "output_type": "stream",
          "name": "stderr",
          "text": [
            "<ipython-input-2-79d65fe5809b>:25: FutureWarning: \n",
            "\n",
            "`shade` is now deprecated in favor of `fill`; setting `fill=True`.\n",
            "This will become an error in seaborn v0.14.0; please update your code.\n",
            "\n",
            "  sns.kdeplot(int_list2, shade=True, alpha=0.6, color='b')\n",
            "<ipython-input-2-79d65fe5809b>:30: FutureWarning: \n",
            "\n",
            "`shade` is now deprecated in favor of `fill`; setting `fill=True`.\n",
            "This will become an error in seaborn v0.14.0; please update your code.\n",
            "\n",
            "  sns.kdeplot(int_list2, shade=True, alpha=0.6, color='b')\n"
          ]
        },
        {
          "output_type": "display_data",
          "data": {
            "text/plain": [
              "<Figure size 1200x600 with 3 Axes>"
            ],
            "image/png": "[encoded data removed]"
          },
          "metadata": {}
        },
        {
          "output_type": "stream",
          "name": "stdout",
          "text": [
            "Range: 99\n",
            "Variance: 820.8386040000003\n",
            "Standard Deviation: 28.650281045741945\n",
            "Interquartile Range (IQR): 52.0\n",
            "Coefficient of Variation: 0.11479121844070558\n",
            "Mean Absolute Deviation (MAD): 25.03206400000004\n",
            "Quartile Deviation: 26.0\n",
            "Range-Based Coefficient of Dispersion: 0.39665686376639714\n"
          ]
        }
      ]
    },
    {
      "cell_type": "code",
      "source": [
        "# 3. Write a Python class representing a discrete random variable with methods to calculate its expected value and variance.\n",
        "\n",
        "# Code\n",
        "class DiscreteRandomVariable:\n",
        "    def __init__(self, values, probabilities):\n",
        "        self.values = values\n",
        "        self.probabilities = probabilities\n",
        "\n",
        "        if not abs(sum(probabilities) - 1) < 1e-6:\n",
        "            raise ValueError(\"The sum of probabilities must equal 1.\")\n",
        "\n",
        "    def expected_value(self):\n",
        "        return sum(value * probability for value, probability in zip(self.values, self.probabilities))\n",
        "\n",
        "    def variance(self):\n",
        "        expected_value = self.expected_value()\n",
        "        return sum((value - expected_value) ** 2 * probability for value, probability in zip(self.values, self.probabilities))\n",
        "X = DiscreteRandomVariable([1, 2, 3, 4], [0.1, 0.2, 0.3, 0.4])\n",
        "\n",
        "expected_value = X.expected_value()\n",
        "variance = X.variance()\n",
        "\n",
        "print(\"Expected value:\", expected_value)\n",
        "print(\"Variance:\", variance)\n"
      ],
      "metadata": {
        "colab": {
          "base_uri": "https://localhost:8080/"
        },
        "id": "lqj2tS5Qqihe",
        "outputId": "c8c79272-2322-4790-9e87-c65fc177c746"
      },
      "execution_count": 3,
      "outputs": [
        {
          "output_type": "stream",
          "name": "stdout",
          "text": [
            "Expected value: 3.0\n",
            "Variance: 1.0\n"
          ]
        }
      ]
    },
    {
      "cell_type": "code",
      "source": [
        "# 4. Implement a program to simulate the rolling of a fair six-sided die and calculate the expected value and variance of the outcomes.\n",
        "\n",
        "# Code\n",
        "\n",
        "import random\n",
        "\n",
        "outcomes = [1, 2, 3, 4, 5, 6]\n",
        "probabilities = [1/6, 1/6, 1/6, 1/6, 1/6, 1/6]\n",
        "\n",
        "num_trials = 1000000\n",
        "rolls = [random.choice(outcomes) for _ in range(num_trials)]\n",
        "\n",
        "expected_value = sum(outcome * probability for outcome, probability in zip(outcomes, probabilities))\n",
        "print(\"Expected Value (Theoretical):\", expected_value)\n",
        "\n",
        "simulated_expected_value = sum(rolls) / num_trials\n",
        "print(\"Expected Value (Simulated):\", simulated_expected_value)\n",
        "\n",
        "variance = sum(((outcome - expected_value) ** 2) * probability for outcome, probability in zip(outcomes, probabilities))\n",
        "print(\"Variance (Theoretical):\", variance)\n",
        "\n",
        "simulated_variance = sum((roll - simulated_expected_value) ** 2 for roll in rolls) / num_trials\n",
        "print(\"Variance (Simulated):\", simulated_variance)\n",
        "\n",
        "standard_deviation = variance ** 0.5\n",
        "print(\"Standard Deviation (Theoretical):\", standard_deviation)\n",
        "\n",
        "simulated_standard_deviation = simulated_variance ** 0.5\n",
        "print(\"Standard Deviation (Simulated):\", simulated_standard_deviation)"
      ],
      "metadata": {
        "colab": {
          "base_uri": "https://localhost:8080/"
        },
        "id": "a_hO4iZUyv_R",
        "outputId": "2e50f07e-0989-409f-f746-84dd955ec426"
      },
      "execution_count": 4,
      "outputs": [
        {
          "output_type": "stream",
          "name": "stdout",
          "text": [
            "Expected Value (Theoretical): 3.5\n",
            "Expected Value (Simulated): 3.501194\n",
            "Variance (Theoretical): 2.9166666666666665\n",
            "Variance (Simulated): 2.9175385743556776\n",
            "Standard Deviation (Theoretical): 1.707825127659933\n",
            "Standard Deviation (Simulated): 1.708080377018505\n"
          ]
        }
      ]
    },
    {
      "cell_type": "code",
      "source": [
        "# 5. Create a Python function to generate random samples from a given probabilites distribution (e.g. binomial, Poisson) and calculate their mean and variance.\n",
        "\n",
        "# Code\n",
        "\n",
        "import numpy as np\n",
        "from scipy.stats import binom, poisson\n",
        "\n",
        "def generate_samples(dist, params, num_samples, sample_size):\n",
        "    \"\"\"\n",
        "    Generate random samples from a given probability distribution and calculate their mean and variance.\n",
        "\n",
        "    Parameters:\n",
        "    dist (str): The type of distribution ('binomial' or 'poisson').\n",
        "    params (list): A list of parameters for the distribution (e.g. [n, p] for binomial or [mu] for Poisson).\n",
        "    num_samples (int): The number of samples to generate.\n",
        "    sample_size (int): The size of each sample.\n",
        "\n",
        "    Returns:\n",
        "    samples (list): A list of generated samples.\n",
        "    mean (float): The mean of the samples.\n",
        "    variance (float): The variance of the samples.\n",
        "    \"\"\"\n",
        "    if dist == 'binomial':\n",
        "        n, p = params\n",
        "        samples = [binom.rvs(n, p, size=sample_size) for _ in range(num_samples)]\n",
        "    elif dist == 'poisson':\n",
        "        mu = params[0]\n",
        "        samples = [poisson.rvs(mu, size=sample_size) for _ in range(num_samples)]\n",
        "    else:\n",
        "        raise ValueError(\"Invalid distribution. Must be 'binomial' or 'poisson'.\")\n",
        "\n",
        "    means = [np.mean(sample) for sample in samples]\n",
        "    mean = np.mean(means)\n",
        "    variance = np.var(means)\n",
        "\n",
        "    return samples, mean, variance\n",
        "\n",
        "dist = 'binomial'\n",
        "params = [10, 0.5]  # n=10, p=0.5\n",
        "num_samples = 1000\n",
        "sample_size = 100\n",
        "\n",
        "samples, mean, variance = generate_samples(dist, params, num_samples, sample_size)\n",
        "print(\"Mean:\", mean)\n",
        "print(\"Variance:\", variance)\n",
        "\n",
        "dist = 'poisson'\n",
        "params = [5]  # mu=5\n",
        "num_samples = 1000\n",
        "sample_size = 100\n",
        "\n",
        "samples, mean, variance = generate_samples(dist, params, num_samples, sample_size)\n",
        "print(\"Mean:\", mean)\n",
        "print(\"Variance:\", variance)"
      ],
      "metadata": {
        "colab": {
          "base_uri": "https://localhost:8080/"
        },
        "id": "djYLDP9nywBx",
        "outputId": "013669df-615a-4cc7-c932-4ec39a7af4f6"
      },
      "execution_count": 5,
      "outputs": [
        {
          "output_type": "stream",
          "name": "stdout",
          "text": [
            "Mean: 4.996459999999999\n",
            "Variance: 0.0244596684\n",
            "Mean: 4.99513\n",
            "Variance: 0.0545223831\n"
          ]
        }
      ]
    },
    {
      "cell_type": "code",
      "source": [
        "# 5. Create a Python function to generate random samples from a given probabilites distribution (e.g. binomial, Poisson) and calculate their mean and variance.\n",
        "\n",
        "# Code\n",
        "\n",
        "import numpy as np\n",
        "from scipy.stats import binom, poisson\n",
        "\n",
        "def generate_samples(dist, params, num_samples, sample_size):\n",
        "    \"\"\"\n",
        "    Generate random samples from a given probability distribution and calculate their mean and variance.\n",
        "\n",
        "    Parameters:\n",
        "    dist (str): The type of distribution ('binomial' or 'poisson').\n",
        "    params (list): A list of parameters for the distribution (e.g. [n, p] for binomial or [mu] for Poisson).\n",
        "    num_samples (int): The number of samples to generate.\n",
        "    sample_size (int): The size of each sample.\n",
        "\n",
        "    Returns:\n",
        "    samples (list): A list of generated samples.\n",
        "    mean (float): The mean of the samples.\n",
        "    variance (float): The variance of the samples.\n",
        "    \"\"\"\n",
        "    if dist == 'binomial':\n",
        "        n, p = params\n",
        "        samples = [binom.rvs(n, p, size=sample_size) for _ in range(num_samples)]\n",
        "    elif dist == 'poisson':\n",
        "        mu = params[0]\n",
        "        samples = [poisson.rvs(mu, size=sample_size) for _ in range(num_samples)]\n",
        "    else:\n",
        "        raise ValueError(\"Invalid distribution. Must be 'binomial' or 'poisson'.\")\n",
        "\n",
        "    means = [np.mean(sample) for sample in samples]\n",
        "    mean = np.mean(means)\n",
        "    variance = np.var(means)\n",
        "\n",
        "    return samples, mean, variance\n",
        "\n",
        "dist = 'binomial'\n",
        "params = [10, 0.5]\n",
        "num_samples = 1000\n",
        "sample_size = 100\n",
        "\n",
        "samples, mean, variance = generate_samples(dist, params, num_samples, sample_size)\n",
        "print(\"Mean:\", mean)\n",
        "print(\"Variance:\", variance)\n",
        "\n",
        "dist = 'poisson'\n",
        "params = [5]\n",
        "num_samples = 1000\n",
        "sample_size = 100\n",
        "\n",
        "samples, mean, variance = generate_samples(dist, params, num_samples, sample_size)\n",
        "print(\"Mean:\", mean)\n",
        "print(\"Variance:\", variance)"
      ],
      "metadata": {
        "colab": {
          "base_uri": "https://localhost:8080/"
        },
        "id": "zH5XAxeSywD7",
        "outputId": "81c96999-2506-4dba-82f3-bd0238edbf39"
      },
      "execution_count": 6,
      "outputs": [
        {
          "output_type": "stream",
          "name": "stdout",
          "text": [
            "Mean: 4.995700000000001\n",
            "Variance: 0.02376591\n",
            "Mean: 4.99607\n",
            "Variance: 0.050621655099999996\n"
          ]
        }
      ]
    },
    {
      "cell_type": "code",
      "source": [
        "# 6.  Write a Python script to generate random numbers from a Gaussian (normal) distribution and compute the mean, variance, and standard deviation of the samples.\n",
        "\n",
        "# Code\n",
        "\n",
        "import numpy as np\n",
        "\n",
        "samples = np.random.normal(0, 1, 1000)\n",
        "\n",
        "mean = np.mean(samples)\n",
        "print(\"Mean:\", mean)\n",
        "\n",
        "variance = np.var(samples)\n",
        "print(\"Variance:\", variance)\n",
        "\n",
        "std_dev = np.std(samples)\n",
        "print(\"Standard Deviation:\", std_dev)"
      ],
      "metadata": {
        "colab": {
          "base_uri": "https://localhost:8080/"
        },
        "id": "8Fuj26eyywHV",
        "outputId": "9f85deb0-0310-4ee5-84fc-a6ef8d97e5dc"
      },
      "execution_count": 7,
      "outputs": [
        {
          "output_type": "stream",
          "name": "stdout",
          "text": [
            "Mean: 0.019302025350248192\n",
            "Variance: 0.9949246024882893\n",
            "Standard Deviation: 0.997459073089362\n"
          ]
        }
      ]
    },
    {
      "cell_type": "code",
      "source": [
        "# 7. Use seaborn libraries to load tips dataset. Find the following from the dataset for the columns total_bill and tip :\n",
        "\n",
        "# Code\n",
        "\n",
        "import seaborn as sns\n",
        "import pandas as pd\n",
        "import numpy as np\n",
        "import matplotlib.pyplot as plt\n",
        "\n",
        "tips = sns.load_dataset('tips')\n",
        "\n",
        "# (1). Write a Python function that calculates their skewness.\n",
        "\n",
        "def calculate_skewness(column):\n",
        "    skewness = column.skew()\n",
        "    return skewness\n",
        "\n",
        "\n",
        "total_bill_skewness = calculate_skewness(tips['total_bill'])\n",
        "tip_skewness = calculate_skewness(tips['tip'])\n",
        "\n",
        "print(f\"Skewness of total_bill: {total_bill_skewness:.4f}\")\n",
        "print(f\"Skewness of tip: {tip_skewness:.4f}\")\n",
        "\n",
        "# (2). Create a program that determines whether the columns exhibit positive skewness, negative skewness, or is approximately symmetric.\n",
        "\n",
        "def determine_skewness_type(skewness):\n",
        "    if skewness > 0:\n",
        "        return \"Positive skewness\"\n",
        "    elif skewness < 0:\n",
        "        return \"Negative skewness\"\n",
        "    else:\n",
        "        return \"Approximately symmetric\"\n",
        "\n",
        "print(f\"Skewness type of total_bill: {determine_skewness_type(total_bill_skewness)}\")\n",
        "print(f\"Skewness type of tip: {determine_skewness_type(tip_skewness)}\")\n",
        "\n",
        "\n",
        "# (3). Write a function that calculates the covariance between two columns.\n",
        "\n",
        "def calculate_covariance(column1, column2):\n",
        "    covariance = np.cov(column1, column2)[0, 1]\n",
        "    return covariance\n",
        "\n",
        "covariance = calculate_covariance(tips['total_bill'], tips['tip'])\n",
        "print(f\"Covariance between total_bill and tip: {covariance:.4f}\")\n",
        "\n",
        "# (4). Implement a Python program that calculates the Pearson correlation coefficient between two columns.\n",
        "\n",
        "def calculate_pearson_correlation(column1, column2):\n",
        "    correlation = np.corrcoef(column1, column2)[0, 1]\n",
        "    return correlation\n",
        "\n",
        "correlation = calculate_pearson_correlation(tips['total_bill'], tips['tip'])\n",
        "print(f\"Pearson correlation coefficient between total_bill and tip: {correlation:.4f}\")\n",
        "\n",
        "# (5). Write a script to visualize the correlation between two specific columns in a Pandas DataFrame using scatter plots.\n",
        "\n",
        "plt.figure(figsize=(8, 6))\n",
        "plt.scatter(tips['total_bill'], tips['tip'])\n",
        "plt.xlabel('Total Bill')\n",
        "plt.ylabel('Tip')\n",
        "plt.title('Correlation between Total Bill and Tip')\n",
        "plt.show()"
      ],
      "metadata": {
        "colab": {
          "base_uri": "https://localhost:8080/",
          "height": 668
        },
        "id": "IbCDmSSdzDB9",
        "outputId": "aeaddc70-df38-453d-824c-545f3f9efdfc"
      },
      "execution_count": 8,
      "outputs": [
        {
          "output_type": "stream",
          "name": "stdout",
          "text": [
            "Skewness of total_bill: 1.1332\n",
            "Skewness of tip: 1.4655\n",
            "Skewness type of total_bill: Positive skewness\n",
            "Skewness type of tip: Positive skewness\n",
            "Covariance between total_bill and tip: 8.3235\n",
            "Pearson correlation coefficient between total_bill and tip: 0.6757\n"
          ]
        },
        {
          "output_type": "display_data",
          "data": {
            "text/plain": [
              "<Figure size 800x600 with 1 Axes>"
            ],
            "image/png": "[encoded data removed]"
          },
          "metadata": {}
        }
      ]
    },
    {
      "cell_type": "code",
      "source": [
        "# 8. Write a Python Function to calculate the probabilities densities function (PDF) of a continuous random variable for a given normal distribution.\n",
        "\n",
        "# Code\n",
        "\n",
        "import math\n",
        "\n",
        "def normal_pdf(x, mu, sigma):\n",
        "\n",
        "    if sigma <= 0:\n",
        "        raise ValueError(\"sigma must be a positive real number.\")\n",
        "\n",
        "    pdf = (1 / (sigma * math.sqrt(2 * math.pi))) * math.exp(-((x - mu) ** 2) / (2 * sigma ** 2))\n",
        "    return pdf\n",
        "\n",
        "x = 1.5\n",
        "mu = 0\n",
        "sigma = 1\n",
        "pdf = normal_pdf(x, mu, sigma)\n",
        "print(f\"The probability density of the normal distribution at {x} with mean {mu} and standard deviation {sigma} is {pdf:.4f}.\")"
      ],
      "metadata": {
        "colab": {
          "base_uri": "https://localhost:8080/"
        },
        "id": "-tORNvQazDEO",
        "outputId": "2ac027cb-4acd-4eab-921a-90fea94849ea"
      },
      "execution_count": 9,
      "outputs": [
        {
          "output_type": "stream",
          "name": "stdout",
          "text": [
            "The probability density of the normal distribution at 1.5 with mean 0 and standard deviation 1 is 0.1295.\n"
          ]
        }
      ]
    },
    {
      "cell_type": "code",
      "source": [
        "# 9. Create a program to calculate the cumulative distribution function (CDF) of exponential distribution.\n",
        "\n",
        "# Code\n",
        "\n",
        "import math\n",
        "\n",
        "def exponential_cdf(x, lambda_param):\n",
        "\n",
        "    if x < 0:\n",
        "        raise ValueError(\"x must be a non-negative real number.\")\n",
        "    if lambda_param <= 0:\n",
        "        raise ValueError(\"lambda_param must be a positive real number.\")\n",
        "\n",
        "    cdf = 1 - math.exp(-lambda_param * x)\n",
        "    return cdf\n",
        "\n",
        "x = 2.5\n",
        "lambda_param = 0.5\n",
        "cdf = exponential_cdf(x, lambda_param)\n",
        "print(f\"The probability that a random variable from an exponential distribution with rate parameter {lambda_param} is less than or equal to {x} is {cdf:.4f}.\")"
      ],
      "metadata": {
        "colab": {
          "base_uri": "https://localhost:8080/"
        },
        "id": "eMS-onkWywNW",
        "outputId": "02f12d08-c850-45f9-9410-6ee1ca4ae87c"
      },
      "execution_count": 10,
      "outputs": [
        {
          "output_type": "stream",
          "name": "stdout",
          "text": [
            "The probability that a random variable from an exponential distribution with rate parameter 0.5 is less than or equal to 2.5 is 0.7135.\n"
          ]
        }
      ]
    },
    {
      "cell_type": "code",
      "source": [
        "# 10. Write a Python function to calculate the probabilites mass function (PMF) of Poisson distribution.\n",
        "\n",
        "# Code\n",
        "\n",
        "import math\n",
        "\n",
        "def poisson_pmf(k, mu):\n",
        "\n",
        "    if k < 0:\n",
        "        raise ValueError(\"k must be a non-negative integer.\")\n",
        "    if mu <= 0:\n",
        "        raise ValueError(\"mu must be a positive real number.\")\n",
        "\n",
        "    pmf = (math.exp(-mu) * (mu ** k)) / math.factorial(k)\n",
        "    return pmf\n",
        "k = 5\n",
        "mu = 4\n",
        "pmf = poisson_pmf(k, mu)\n",
        "print(f\"The probability of {k} events occurring in a Poisson distribution with mean {mu} is {pmf:.4f}.\")"
      ],
      "metadata": {
        "colab": {
          "base_uri": "https://localhost:8080/"
        },
        "id": "r7P4K1FUqij3",
        "outputId": "7f3b1c5f-041d-43f5-9d02-cc2afad9d6a2"
      },
      "execution_count": 11,
      "outputs": [
        {
          "output_type": "stream",
          "name": "stdout",
          "text": [
            "The probability of 5 events occurring in a Poisson distribution with mean 4 is 0.1563.\n"
          ]
        }
      ]
    },
    {
      "cell_type": "code",
      "source": [
        "# 11. A company wants to test if a new website layout leads to a higher conversion rate (percentage of visitors\n",
        "# who make a purchase). They collect data from the old and new layouts to compare.\n",
        "#  To generate the data use the following command:\n",
        "#  ```python\n",
        "#  import numpy as np\n",
        "#  # 50 purchases out of 1000 visitors\n",
        "#  old_layout = np.array([1] * 50 + [0] * 950)\n",
        "#  # 70 purchases out of 1000 visitors\n",
        "# new_layout = np.array([1] * 70 + [0] * 930)\n",
        "#  ```\n",
        "#  Apply z-test to find which layout is successful.\n",
        "\n",
        "# code\n",
        "import numpy as np\n",
        "from scipy.stats import norm\n",
        "\n",
        "old_layout = np.array([1] * 50 + [0] * 950)\n",
        "new_layout = np.array([1] * 70 + [0] * 930)\n",
        "\n",
        "p1 = np.mean(old_layout)\n",
        "p2 = np.mean(new_layout)\n",
        "n1 = len(old_layout)\n",
        "n2 = len(new_layout)\n",
        "\n",
        "p_pooled = (n1 * p1 + n2 * p2) / (n1 + n2)\n",
        "\n",
        "se = np.sqrt(p_pooled * (1 - p_pooled) * (1 / n1 + 1 / n2))\n",
        "\n",
        "z_statistic = (p1 - p2) / se\n",
        "p_value = norm.cdf(z_statistic) if p1 < p2 else 1 - norm.cdf(z_statistic)\n",
        "\n",
        "print(\"z-statistic:\", z_statistic)\n",
        "print(\"p-value:\", p_value)\n",
        "\n",
        "alpha = 0.05\n",
        "if p_value < alpha:\n",
        "    print(\"The new layout is more successful.\")\n",
        "else:\n",
        "    print(\"There is no significant difference between the old and new layouts.\")\n"
      ],
      "metadata": {
        "colab": {
          "base_uri": "https://localhost:8080/"
        },
        "id": "OAFtnPncqimN",
        "outputId": "8797e54f-a874-4568-b275-0ecc540b3dda"
      },
      "execution_count": 12,
      "outputs": [
        {
          "output_type": "stream",
          "name": "stdout",
          "text": [
            "z-statistic: -1.883108942886774\n",
            "p-value: 0.029842802766213112\n",
            "The new layout is more successful.\n"
          ]
        }
      ]
    },
    {
      "cell_type": "code",
      "source": [
        "#  12.A tutoring service claims that its program improves students' exam scores. A sample of students who\n",
        "# participated in the program was taken, and their scores before and after the program were recorded.\n",
        "#  Use the below code to generate samples of respective arrays of marks:\n",
        "#  ```python\n",
        "#  before_program = np.array([75, 80, 85, 70, 90, 78, 92, 88, 82, 87])\n",
        "#  after_program = np.array([80, 85, 90, 80, 92, 80, 95, 90, 85, 88])\n",
        "#  ```\n",
        "#  Use z-test to find if the claims made by tutor are true or false.\n",
        "\n",
        "# code\n",
        "\n",
        "import numpy as np\n",
        "from scipy.stats import zscore, norm\n",
        "\n",
        "before_program = np.array([75, 80, 85, 70, 90, 78, 92, 88, 82, 87])\n",
        "after_program = np.array([80, 85, 90, 80, 92, 80, 95, 90, 85, 88])\n",
        "\n",
        "differences = after_program - before_program\n",
        "\n",
        "population_mean = 0\n",
        "population_std = 10\n",
        "\n",
        "sample_mean = np.mean(differences)\n",
        "standard_error = population_std / np.sqrt(len(differences))\n",
        "\n",
        "z_statistic = (sample_mean - population_mean) / standard_error\n",
        "p_value = norm.cdf(z_statistic) if sample_mean < population_mean else 1 - norm.cdf(z_statistic)\n",
        "\n",
        "print(\"z-statistic:\", z_statistic)\n",
        "print(\"p-value:\", p_value)\n",
        "\n",
        "alpha = 0.05\n",
        "if p_value < alpha:\n",
        "    print(\"The tutoring service's claim is true.\")\n",
        "else:\n",
        "    print(\"The tutoring service's claim is false.\")\n"
      ],
      "metadata": {
        "colab": {
          "base_uri": "https://localhost:8080/"
        },
        "id": "8VQ42KU-qipf",
        "outputId": "73508219-0da4-4285-8140-7af38925c9c2"
      },
      "execution_count": 13,
      "outputs": [
        {
          "output_type": "stream",
          "name": "stdout",
          "text": [
            "z-statistic: 1.2016655108639842\n",
            "p-value: 0.11474657436629188\n",
            "The tutoring service's claim is false.\n"
          ]
        }
      ]
    },
    {
      "cell_type": "code",
      "source": [
        "# 13. A pharmaceutical company wants to determine if a new drug is effective in reducing blood pressure. They\n",
        "# conduct a study and record blood pressure measurements before and after administering the drug.\n",
        "#  Use the below code to generate samples of respective arrays of blood pressure:\n",
        "#  ```python\n",
        "#  before_drug = np.array([145, 150, 140, 135, 155, 160, 152, 148, 130, 138])\n",
        "#  after_drug = np.array([130, 140, 132, 128, 145, 148, 138, 136, 125, 130])\n",
        "#  ```\n",
        "#  Implement z-test to find if the drug really works or not.\n",
        "\n",
        "# code\n",
        "import numpy as np\n",
        "from scipy.stats import zscore, norm\n",
        "\n",
        "before_drug = np.array([145, 150, 140, 135, 155, 160, 152, 148, 130, 138])\n",
        "after_drug = np.array([130, 140, 132, 128, 145, 148, 138, 136, 125, 130])\n",
        "\n",
        "differences = before_drug - after_drug\n",
        "\n",
        "population_mean = 0\n",
        "population_std = 10\n",
        "\n",
        "sample_mean = np.mean(differences)\n",
        "standard_error = population_std / np.sqrt(len(differences))\n",
        "\n",
        "z_statistic = (sample_mean - population_mean) / standard_error\n",
        "p_value = norm.cdf(z_statistic) if sample_mean < population_mean else 1 - norm.cdf(z_statistic)\n",
        "\n",
        "print(\"z-statistic:\", z_statistic)\n",
        "print(\"p-value:\", p_value)\n",
        "\n",
        "alpha = 0.05\n",
        "if p_value < alpha:\n",
        "    print(\"The drug is effective in reducing blood pressure.\")\n",
        "else:\n",
        "    print(\"The drug is not effective in reducing blood pressure.\")\n"
      ],
      "metadata": {
        "colab": {
          "base_uri": "https://localhost:8080/"
        },
        "id": "9jYeo6YLqiu6",
        "outputId": "39592d9a-031e-40e9-ec44-bbd54c8dfb1d"
      },
      "execution_count": 14,
      "outputs": [
        {
          "output_type": "stream",
          "name": "stdout",
          "text": [
            "z-statistic: 3.1939004367700634\n",
            "p-value: 0.0007018225897703623\n",
            "The drug is effective in reducing blood pressure.\n"
          ]
        }
      ]
    },
    {
      "cell_type": "code",
      "source": [
        "#  14.A customer service department claims that their average response time is less than 5 minutes. A sample\n",
        "# of recent customer interactions was taken, and the response times were recorded.\n",
        "#  Implement the below code to generate the array of response time:\n",
        "#  ```python\n",
        "#  response_times = np.array([4.3, 3.8, 5.1, 4.9, 4.7, 4.2, 5.2, 4.5, 4.6, 4.4])\n",
        "#  ```\n",
        "#  Implement z-test to find the claims made by customer service department are tru or false.\n",
        "\n",
        "# code\n",
        "import numpy as np\n",
        "from scipy.stats import zscore, norm\n",
        "\n",
        "response_times = np.array([4.3, 3.8, 5.1, 4.9, 4.7, 4.2, 5.2, 4.5, 4.6, 4.4])\n",
        "\n",
        "population_mean = 5\n",
        "population_std = 0.5\n",
        "\n",
        "sample_mean = np.mean(response_times)\n",
        "standard_error = population_std / np.sqrt(len(response_times))\n",
        "\n",
        "z_statistic = (sample_mean - population_mean) / standard_error\n",
        "p_value = norm.cdf(z_statistic)\n",
        "\n",
        "print(\"z-statistic:\", z_statistic)\n",
        "print(\"p-value:\", p_value)\n",
        "\n",
        "alpha = 0.05\n",
        "if p_value < alpha:\n",
        "    print(\"The claim made by the customer service department is true.\")\n",
        "else:\n",
        "    print(\"The claim made by the customer service department is false.\")\n",
        "\n"
      ],
      "metadata": {
        "colab": {
          "base_uri": "https://localhost:8080/"
        },
        "id": "W27X9Z_8qixH",
        "outputId": "801218c3-1d56-4196-c3c4-2494bf4560e9"
      },
      "execution_count": 15,
      "outputs": [
        {
          "output_type": "stream",
          "name": "stdout",
          "text": [
            "z-statistic: -2.719558787744804\n",
            "p-value: 0.003268453704199169\n",
            "The claim made by the customer service department is true.\n"
          ]
        }
      ]
    },
    {
      "cell_type": "code",
      "source": [
        "#  15.A company is testing two different website layouts to see which one leads to higher click-through rates.\n",
        "# Write a Python function to perform an A/B test analysis, including calculating the t-statistic, degrees of\n",
        "# freedom, and p-value.\n",
        "#  Use the following data:\n",
        "#  ```python\n",
        "#  layout_a_clicks = [28, 32, 33, 29, 31, 34, 30, 35, 36, 37]\n",
        "#  layout_b_clicks = [40, 41, 38, 42, 39, 44, 43, 41, 45, 47]\n",
        "\n",
        "# code\n",
        "\n",
        "from scipy.stats import ttest_ind\n",
        "\n",
        "def ab_test_analysis(layout_a_clicks, layout_b_clicks, alpha=0.05):\n",
        "    t_stat, p_val = ttest_ind(layout_a_clicks, layout_b_clicks, equal_var=True)\n",
        "    df = len(layout_a_clicks) + len(layout_b_clicks) - 2\n",
        "\n",
        "    print(\"t-statistic:\", t_stat)\n",
        "    print(\"Degrees of freedom:\", df)\n",
        "    print(\"p-value:\", p_val)\n",
        "\n",
        "    if p_val < alpha:\n",
        "        print(\"Layout B has a significantly higher click-through rate than Layout A.\")\n",
        "    else:\n",
        "        print(\"There is no significant difference in click-through rates between Layout A and Layout B.\")\n",
        "\n",
        "layout_a_clicks = [28, 32, 33, 29, 31, 34, 30, 35, 36, 37]\n",
        "layout_b_clicks = [40, 41, 38, 42, 39, 44, 43, 41, 45, 47]\n",
        "\n",
        "ab_test_analysis(layout_a_clicks, layout_b_clicks)\n"
      ],
      "metadata": {
        "colab": {
          "base_uri": "https://localhost:8080/"
        },
        "id": "IFvFBrNLqizU",
        "outputId": "bdb503cd-171a-4aac-ba47-94fa73220d16"
      },
      "execution_count": 16,
      "outputs": [
        {
          "output_type": "stream",
          "name": "stdout",
          "text": [
            "t-statistic: -7.298102156175071\n",
            "Degrees of freedom: 18\n",
            "p-value: 8.833437608301987e-07\n",
            "Layout B has a significantly higher click-through rate than Layout A.\n"
          ]
        }
      ]
    },
    {
      "cell_type": "code",
      "source": [
        "#  16.A pharmaceutical company wants to determine if a new drug is more effective than an existing drug in\n",
        "# reducing cholesterol levels. Create a program to analyze the clinical trial data and calculate the t\n",
        "# Use the following data of cholestrol level:\n",
        "#  ```python\n",
        "#  existing_drug_levels = [180, 182, 175, 185, 178, 176, 172, 184, 179, 183]\n",
        "#  new_drug_levels = [170, 172, 165, 168, 175, 173, 170, 178, 172, 176]\n",
        "\n",
        "# code\n",
        "\n",
        "from scipy.stats import ttest_ind\n",
        "\n",
        "def analyze_drug_effectiveness(existing_drug_levels, new_drug_levels, alpha=0.05):\n",
        "    t_stat, p_val = ttest_ind(existing_drug_levels, new_drug_levels, equal_var=True)\n",
        "\n",
        "    print(\"t-statistic:\", t_stat)\n",
        "    print(\"p-value:\", p_val)\n",
        "\n",
        "    if p_val < alpha:\n",
        "        print(\"The new drug is significantly more effective than the existing drug in reducing cholesterol levels.\")\n",
        "    else:\n",
        "        print(\"There is no significant difference in effectiveness between the new drug and the existing drug in reducing cholesterol levels.\")\n",
        "\n",
        "existing_drug_levels = [180, 182, 175, 185, 178, 176, 172, 184, 179, 183]\n",
        "new_drug_levels = [170, 172, 165, 168, 175, 173, 170, 178, 172, 176]\n",
        "\n",
        "analyze_drug_effectiveness(existing_drug_levels, new_drug_levels)\n"
      ],
      "metadata": {
        "colab": {
          "base_uri": "https://localhost:8080/"
        },
        "id": "hVeJ84BLqi0y",
        "outputId": "415eae0b-9cab-4313-d3c9-dfaae74c4dd4"
      },
      "execution_count": 17,
      "outputs": [
        {
          "output_type": "stream",
          "name": "stdout",
          "text": [
            "t-statistic: 4.14048098620866\n",
            "p-value: 0.0006143398442372505\n",
            "The new drug is significantly more effective than the existing drug in reducing cholesterol levels.\n"
          ]
        }
      ]
    },
    {
      "cell_type": "code",
      "source": [
        "# 17. A school district introduces an educational intervention program to improve math scores. Write a Python\n",
        "# function to analyze pre- and post-intervention test scores, calculating the t-statistic and p-value to\n",
        "# determine if the intervention had a significant impact.\n",
        "#  Use the following data of test score:\n",
        "#  ```python\n",
        "#  pre_intervention_scores = [80, 85, 90, 75, 88, 82, 92, 78, 85, 87]\n",
        "#  post_intervention_scores = [90, 92, 88, 92, 95, 91, 96, 93, 89, 93]\n",
        "\n",
        "# code\n",
        "\n",
        "from scipy.stats import ttest_rel\n",
        "\n",
        "def analyze_intervention_impact(pre_intervention_scores, post_intervention_scores, alpha=0.05):\n",
        "    t_stat, p_val = ttest_rel(pre_intervention_scores, post_intervention_scores)\n",
        "\n",
        "    print(\"t-statistic:\", t_stat)\n",
        "    print(\"p-value:\", p_val)\n",
        "\n",
        "    if p_val < alpha:\n",
        "        print(\"The intervention had a significant impact on test scores.\")\n",
        "    else:\n",
        "        print(\"The intervention did not have a significant impact on test scores.\")\n",
        "\n",
        "pre_intervention_scores = [80, 85, 90, 75, 88, 82, 92, 78, 85, 87]\n",
        "post_intervention_scores = [90, 92, 88, 92, 95, 91, 96, 93, 89, 93]\n",
        "\n",
        "analyze_intervention_impact(pre_intervention_scores, post_intervention_scores)\n"
      ],
      "metadata": {
        "colab": {
          "base_uri": "https://localhost:8080/"
        },
        "id": "pWHCPXC1qi4f",
        "outputId": "0f7eaec3-89cb-4252-d0b2-9d9e3d8fe556"
      },
      "execution_count": 18,
      "outputs": [
        {
          "output_type": "stream",
          "name": "stdout",
          "text": [
            "t-statistic: -4.42840883965761\n",
            "p-value: 0.0016509548165795493\n",
            "The intervention had a significant impact on test scores.\n"
          ]
        }
      ]
    },
    {
      "cell_type": "code",
      "source": [
        "# 18. An HR department wants to investigate if there's a gender-based salary gap within the company. Develop\n",
        "# a program to analyze salary data, calculate the t-statistic, and determine if there's a statistically\n",
        "# significant difference between the average salaries of male and female employees.\n",
        "#  Use the below code to generate synthetic data:\n",
        "#  ```python\n",
        "#  # Generate synthetic salary data for male and female employees\n",
        "#  np.random.seed(0)  # For reproducibility\n",
        "#  male_salaries = np.random.normal(loc=50000, scale=10000, size=20)\n",
        "#  female_salaries = np.random.normal(loc=55000, scale=9000, size=20)\n",
        "\n",
        "# code\n",
        "\n",
        "import numpy as np\n",
        "from scipy.stats import ttest_ind\n",
        "\n",
        "# Generate synthetic salary data for male and female employees\n",
        "np.random.seed(0)  # For reproducibility\n",
        "male_salaries = np.random.normal(loc=50000, scale=10000, size=20)\n",
        "female_salaries = np.random.normal(loc=55000, scale=9000, size=20)\n",
        "\n",
        "# Perform the independent two-sample t-test\n",
        "t_stat, p_val = ttest_ind(male_salaries, female_salaries, equal_var=False)\n",
        "\n",
        "print(\"t-statistic:\", t_stat)\n",
        "print(\"p-value:\", p_val)\n",
        "\n",
        "# Determine if there's a statistically significant difference\n",
        "alpha = 0.05\n",
        "if p_val < alpha:\n",
        "    print(\"There is a statistically significant difference between the average salaries of male and female employees.\")\n",
        "else:\n",
        "    print(\"There is no statistically significant difference between the average salaries of male and female employees.\")\n",
        "\n"
      ],
      "metadata": {
        "colab": {
          "base_uri": "https://localhost:8080/"
        },
        "id": "AYPR3xQ_qi8O",
        "outputId": "b6f5c695-3f54-4a4b-91ff-4ea21d1bb0e6"
      },
      "execution_count": 19,
      "outputs": [
        {
          "output_type": "stream",
          "name": "stdout",
          "text": [
            "t-statistic: 0.061142089696313844\n",
            "p-value: 0.9515826849267927\n",
            "There is no statistically significant difference between the average salaries of male and female employees.\n"
          ]
        }
      ]
    },
    {
      "cell_type": "code",
      "source": [
        "#  19.A manufacturer produces two different versions of a product and wants to compare their quality scores.\n",
        "# Create a Python function to analyze quality assessment data, calculate the t-statistic, and decide\n",
        "# whether there's a significant difference in quality between the two versions.\n",
        "#  Use the following data:\n",
        "#  ```python\n",
        "#  version1_scores = [85, 88, 82, 89, 87, 84, 90, 88, 85, 86, 91, 83, 87, 84, 89, 86, 84, 88, 85, 86, 89, 90, 87, 88, 85]\n",
        "#  version2_scores = [80, 78, 83, 81, 79, 82, 76, 80, 78, 81, 77, 82, 80, 79, 82, 79, 80, 81, 79, 82, 79, 78, 80, 81, 82]\n",
        "\n",
        "# code\n",
        "\n",
        "import numpy as np\n",
        "from scipy.stats import ttest_ind\n",
        "\n",
        "def compare_quality_scores(version1_scores, version2_scores, alpha=0.05):\n",
        "    t_stat, p_val = ttest_ind(version1_scores, version2_scores, equal_var=False)\n",
        "\n",
        "    print(\"t-statistic:\", t_stat)\n",
        "    print(\"p-value:\", p_val)\n",
        "\n",
        "    if p_val < alpha:\n",
        "        print(\"There is a statistically significant difference in quality between the two versions.\")\n",
        "    else:\n",
        "        print(\"There is no statistically significant difference in quality between the two versions.\")\n",
        "\n",
        "version1_scores = [85, 88, 82, 89, 87, 84, 90, 88, 85, 86, 91, 83, 87, 84, 89, 86, 84, 88, 85, 86, 89, 90, 87, 88, 85]\n",
        "version2_scores = [80, 78, 83, 81, 79, 82, 76, 80, 78, 81, 77, 82, 80, 79, 82, 79, 80, 81, 79, 82, 79, 78, 80, 81, 82]\n",
        "\n",
        "compare_quality_scores(version1_scores, version2_scores)"
      ],
      "metadata": {
        "colab": {
          "base_uri": "https://localhost:8080/"
        },
        "id": "PdSD_w6oqi-q",
        "outputId": "b52cc15c-99bd-4b22-abe6-7d7f5b68db19"
      },
      "execution_count": 20,
      "outputs": [
        {
          "output_type": "stream",
          "name": "stdout",
          "text": [
            "t-statistic: 11.325830417646698\n",
            "p-value: 1.078754084378157e-14\n",
            "There is a statistically significant difference in quality between the two versions.\n"
          ]
        }
      ]
    },
    {
      "cell_type": "code",
      "source": [
        "# 20. A restaurant chain collects customer satisfaction scores for two different branches. Write a program to\n",
        "# analyze the scores, calculate the t-statistic, and determine if there's a statistically significant difference in\n",
        "# customer satisfaction between the branches.\n",
        "#  Use the below data of scores:\n",
        "#  ```python\n",
        "#  branch_a_scores = [4, 5, 3, 4, 5, 4, 5, 3, 4, 4, 5, 4, 4, 3, 4, 5, 5, 4, 3, 4, 5, 4, 3, 5, 4, 4, 5, 3, 4, 5, 4]\n",
        "#  branch_b_scores = [3, 4, 2, 3, 4, 3, 4, 2, 3, 3, 4, 3, 3, 2, 3, 4, 4, 3, 2, 3, 4, 3, 2, 4, 3, 3, 4, 2, 3, 4, 3]\n",
        "\n",
        "# code\n",
        "\n",
        "import numpy as np\n",
        "from scipy.stats import ttest_ind\n",
        "\n",
        "branch_a_scores = [4, 5, 3, 4, 5, 4, 5, 3, 4, 4, 5, 4, 4, 3, 4, 5, 5, 4, 3, 4, 5, 4, 3, 5, 4, 4, 5, 3, 4, 5, 4]\n",
        "branch_b_scores = [3, 4, 2, 3, 4, 3, 4, 2, 3, 3, 4, 3, 3, 2, 3, 4, 4, 3, 2, 3, 4, 3, 2, 4, 3, 3, 4, 2, 3, 4, 3]\n",
        "\n",
        "t_stat, p_val = ttest_ind(branch_a_scores, branch_b_scores, equal_var=False)\n",
        "print(\"t-statistic:\", t_stat)\n",
        "print(\"p-value:\", p_val)\n"
      ],
      "metadata": {
        "colab": {
          "base_uri": "https://localhost:8080/"
        },
        "id": "5Z9gRiVwqjAw",
        "outputId": "4a6f6936-f0cf-48e1-ab57-1c0da4fc1dfa"
      },
      "execution_count": 21,
      "outputs": [
        {
          "output_type": "stream",
          "name": "stdout",
          "text": [
            "t-statistic: 5.480077554195743\n",
            "p-value: 8.895290509945655e-07\n"
          ]
        }
      ]
    },
    {
      "cell_type": "code",
      "source": [
        "# 21. A political analyst wants to determine if there is a significant association between age groups and voter preferences (Candidate A or Candidate B). They collect data from a sample of 500 voters and classify them into different age groups and candidate preferences. Perform a Chi-Square test to determine if there is a significant association between age groups and voter preferences.\n",
        "# Use the below code to generate data:\n",
        "# python\n",
        "# np.random.seed(0)\n",
        "# age_groups = np.random.choice(['18-30', '31-50', '51+', '51+'], size=30)\n",
        "# voter_preferences = np.random.choice(['Candidate A', 'Candidate B'], size=30)\n",
        "\n",
        "# code\n",
        "import numpy as np\n",
        "from scipy.stats import chi2_contingency\n",
        "\n",
        "np.random.seed(0)\n",
        "age_groups = np.random.choice(['18-30', '31-50', '51+'], size=500)\n",
        "voter_preferences = np.random.choice(['Candidate A', 'Candidate B'], size=500)\n",
        "\n",
        "# Create a contingency table\n",
        "contingency_table = np.zeros((3, 2))\n",
        "for i, age in enumerate(['18-30', '31-50', '51+']):\n",
        "    for j, pref in enumerate(['Candidate A', 'Candidate B']):\n",
        "        contingency_table[i, j] = np.sum((age_groups == age) & (voter_preferences == pref))\n",
        "\n",
        "print(\"Contingency table:\\n\", contingency_table)\n",
        "\n",
        "chi2, p_val, dof, expected = chi2_contingency(contingency_table)\n",
        "print(\"Chi-Square statistic:\", chi2)\n",
        "print(\"p-value:\", p_val)\n",
        "print(\"Degrees of freedom:\", dof)\n",
        "print(\"Expected frequencies:\\n\", expected)\n"
      ],
      "metadata": {
        "colab": {
          "base_uri": "https://localhost:8080/"
        },
        "id": "08yNosRuqjHe",
        "outputId": "02fbcb5c-4f27-453b-9f26-4caa6cd9e89b"
      },
      "execution_count": 22,
      "outputs": [
        {
          "output_type": "stream",
          "name": "stdout",
          "text": [
            "Contingency table:\n",
            " [[95. 87.]\n",
            " [87. 82.]\n",
            " [84. 65.]]\n",
            "Chi-Square statistic: 0.8779923945254768\n",
            "p-value: 0.6446832311860852\n",
            "Degrees of freedom: 2\n",
            "Expected frequencies:\n",
            " [[96.824 85.176]\n",
            " [89.908 79.092]\n",
            " [79.268 69.732]]\n"
          ]
        }
      ]
    },
    {
      "cell_type": "code",
      "source": [
        "#  22. A company conducted a customer satisfaction survey to determine if there is a significant relationship\n",
        "# between product satisfaction levels (Satisfied, Neutral, Dissatisfied) and the region where customers are\n",
        "# located (East, West, North, South). The survey data is summarized in a contingency table. Conduct a ChiSquare test to determine if there is a significant relationship between product satisfaction levels and\n",
        "# customer regions.\n",
        "\n",
        "\n",
        "# Sample data:\n",
        "\n",
        "# python\n",
        "\n",
        "# #Sample data: Product satisfaction levels (rows) vs. Customer regions (columns)\n",
        "\n",
        "# data = np.array([[50, 30, 40, 20], [30, 40, 30, 50], [20, 30, 40, 30]])\n",
        "\n",
        "# code\n",
        "\n",
        "import numpy as np\n",
        "from scipy.stats import chi2_contingency\n",
        "\n",
        "data = np.array([[50, 30, 40, 20], [30, 40, 30, 50], [20, 30, 40, 30]])\n",
        "\n",
        "chi2, p_val, dof, expected = chi2_contingency(data)\n",
        "print(\"Chi-Square statistic:\", chi2)\n",
        "print(\"p-value:\", p_val)\n",
        "print(\"Degrees of freedom:\", dof)\n",
        "print(\"Expected frequencies:\\n\", expected)\n"
      ],
      "metadata": {
        "colab": {
          "base_uri": "https://localhost:8080/"
        },
        "id": "pgQW56CXqjKx",
        "outputId": "5b0cac00-523d-41e0-97d3-0fa09a0ed057"
      },
      "execution_count": 23,
      "outputs": [
        {
          "output_type": "stream",
          "name": "stdout",
          "text": [
            "Chi-Square statistic: 27.777056277056275\n",
            "p-value: 0.00010349448486004387\n",
            "Degrees of freedom: 6\n",
            "Expected frequencies:\n",
            " [[34.14634146 34.14634146 37.56097561 34.14634146]\n",
            " [36.58536585 36.58536585 40.24390244 36.58536585]\n",
            " [29.26829268 29.26829268 32.19512195 29.26829268]]\n"
          ]
        }
      ]
    },
    {
      "cell_type": "code",
      "source": [
        "#  23. A company implemented an employee training program to improve job performance (Effective, Neutral,\n",
        "# Ineffective). After the training, they collected data from a sample of employees and classified them based\n",
        "# on their job performance before and after the training. Perform a Chi-Square test to determine if there is a\n",
        "# significant difference between job performance levels before and after the training.\n",
        "\n",
        "\n",
        "# Sample data:\n",
        "\n",
        "# python\n",
        "\n",
        "# # Sample data: Job performance levels before (rows) and after (columns) training\n",
        "\n",
        "# data = np.array([[50, 30, 20], [30, 40, 30], [20, 30, 40]])\n",
        "\n",
        "\n",
        "# code\n",
        "\n",
        "import numpy as np\n",
        "from scipy.stats import chi2_contingency\n",
        "\n",
        "data = np.array([[50, 30, 20], [30, 40, 30], [20, 30, 40]])\n",
        "\n",
        "chi2, p_val, dof, expected = chi2_contingency(data)\n",
        "print(\"Chi-Square statistic:\", chi2)\n",
        "print(\"p-value:\", p_val)\n",
        "print(\"Degrees of freedom:\", dof)\n",
        "print(\"Expected frequencies:\\n\", expected)\n",
        "\n"
      ],
      "metadata": {
        "colab": {
          "base_uri": "https://localhost:8080/"
        },
        "id": "EAbGF98YqjNZ",
        "outputId": "6ada509d-0ab3-43ab-8ec7-84609903a689"
      },
      "execution_count": 24,
      "outputs": [
        {
          "output_type": "stream",
          "name": "stdout",
          "text": [
            "Chi-Square statistic: 22.161728395061726\n",
            "p-value: 0.00018609719479882557\n",
            "Degrees of freedom: 4\n",
            "Expected frequencies:\n",
            " [[34.48275862 34.48275862 31.03448276]\n",
            " [34.48275862 34.48275862 31.03448276]\n",
            " [31.03448276 31.03448276 27.93103448]]\n"
          ]
        }
      ]
    },
    {
      "cell_type": "code",
      "source": [
        "#  24. A company produces three different versions of a product: Standard, Premium, and Deluxe. The\n",
        "# company wants to determine if there is a significant difference in customer satisfaction scores among the\n",
        "# three product versions. They conducted a survey and collected customer satisfaction scores for each\n",
        "# version from a random sample of customers. Perform an ANOVA test to determine if there is a significant\n",
        "# difference in customer satisfaction scores.\n",
        "\n",
        "\n",
        "#   Use the following data:\n",
        "\n",
        "#   python\n",
        "\n",
        "#   # Sample data: Customer satisfaction scores for each product version\n",
        "\n",
        "#   standard_scores = [80, 85, 90, 78, 88, 82, 92, 78, 85, 87]\n",
        "\n",
        "#   premium_scores = [90, 92, 88, 92, 95, 91, 96, 93, 89, 93]\n",
        "\n",
        "#   deluxe_scores = [95, 98, 92, 97, 96, 94, 98, 97, 92, 99]\n",
        "\n",
        "# code\n",
        "\n",
        "import numpy as np\n",
        "from scipy.stats import f_oneway\n",
        "\n",
        "standard_scores = [80, 85, 90, 78, 88, 82, 92, 78, 85, 87]\n",
        "premium_scores = [90, 92, 88, 92, 95, 91, 96, 93, 89, 93]\n",
        "deluxe_scores = [95, 98, 92, 97, 96, 94, 98, 97, 92, 99]\n",
        "F_stat, p_val = f_oneway(standard_scores, premium_scores, deluxe_scores)\n",
        "\n",
        "print(\"F-statistic:\", F_stat)\n",
        "print(\"p-value:\", p_val)\n",
        "\n",
        "\n",
        "\n"
      ],
      "metadata": {
        "colab": {
          "base_uri": "https://localhost:8080/"
        },
        "id": "bZO3-xgiqjQ5",
        "outputId": "56fdb324-55b3-4a81-aee1-279abd76e86c"
      },
      "execution_count": 25,
      "outputs": [
        {
          "output_type": "stream",
          "name": "stdout",
          "text": [
            "F-statistic: 27.03556231003039\n",
            "p-value: 3.5786328857349003e-07\n"
          ]
        }
      ]
    }
  ]
}